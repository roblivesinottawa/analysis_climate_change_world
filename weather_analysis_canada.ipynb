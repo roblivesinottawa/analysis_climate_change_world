{
 "cells": [
  {
   "cell_type": "code",
   "execution_count": 1,
   "metadata": {},
   "outputs": [
    {
     "name": "stderr",
     "output_type": "stream",
     "text": [
      "Loading required package: weathercan\n",
      "\n",
      "Warning message in library(package, lib.loc = lib.loc, character.only = TRUE, logical.return = TRUE, :\n",
      "\"there is no package called 'weathercan'\"\n",
      "Loading required package: plyr\n",
      "\n",
      "Warning message in library(package, lib.loc = lib.loc, character.only = TRUE, logical.return = TRUE, :\n",
      "\"there is no package called 'plyr'\"\n",
      "Loading required package: data.table\n",
      "\n",
      "Warning message in library(package, lib.loc = lib.loc, character.only = TRUE, logical.return = TRUE, :\n",
      "\"there is no package called 'data.table'\"\n"
     ]
    }
   ],
   "source": [
    "require(weathercan)\n",
    "require(plyr)\n",
    "require(data.table)"
   ]
  },
  {
   "cell_type": "code",
   "execution_count": 5,
   "metadata": {},
   "outputs": [],
   "source": [
    "library(weathercan)\n",
    "library(plyr)\n",
    "library(data.table)"
   ]
  },
  {
   "cell_type": "code",
   "execution_count": 11,
   "metadata": {},
   "outputs": [],
   "source": [
    "stations <- data.table(weathercan::stations)"
   ]
  },
  {
   "cell_type": "code",
   "execution_count": 27,
   "metadata": {},
   "outputs": [
    {
     "name": "stderr",
     "output_type": "stream",
     "text": [
      "Warning message in is.na(start):\n",
      "\"is.na() applied to non-(list or vector) of type 'closure'\"\n",
      "Warning message in is.na(end):\n",
      "\"is.na() applied to non-(list or vector) of type 'closure'\"\n"
     ]
    }
   ],
   "source": [
    "start.end <- stations[!is.na(start) & !is.na(end), list(min.start=start, max.end=end)]\n",
    "\n"
   ]
  },
  {
   "cell_type": "code",
   "execution_count": 35,
   "metadata": {},
   "outputs": [
    {
     "ename": "ERROR",
     "evalue": "Error: non-numeric argument to binary operator\n",
     "output_type": "error",
     "traceback": [
      "Error: non-numeric argument to binary operator\nTraceback:\n",
      "1. stations[start < start.end$min.start + 50 & end > start.end$max.end - \n .     10 & interval == \"day\", ]",
      "2. `[.data.table`(stations, start < start.end$min.start + 50 & end > \n .     start.end$max.end - 10 & interval == \"day\", )",
      "3. tryCatch(eval(.massagei(isub), x, ienv), error = function(e) {\n .     if (grepl(\":=.*defined for use in j.*only\", e$message)) \n .         stop(\"Operator := detected in i, the first argument inside DT[...], but is only valid in the second argument, j. Most often, this happens when forgetting the first comma (e.g. DT[newvar := 5] instead of DT[ , new_var := 5]). Please double-check the syntax. Run traceback(), and debugger() to get a line number.\")\n .     else .checkTypos(e, names_x)\n . })",
      "4. tryCatchList(expr, classes, parentenv, handlers)",
      "5. tryCatchOne(expr, names, parentenv, handlers[[1L]])",
      "6. value[[3L]](cond)",
      "7. .checkTypos(e, names_x)",
      "8. stop(err$message, call. = FALSE)"
     ]
    }
   ],
   "source": [
    "long.term.stations <- stations[start<start.end$min.start+50 & end > start.end$max.end-10 & interval == \"day\", ]\n",
    "long.term.stations[, list(station.id, start, end)]\n",
    "\n",
    "station.data <- ddply(.data = long.term.stations, .variables = .(station.id, interval = \"day\"), .fun = weather.dl)\n",
    "station.data <- data.table(station.data)\n",
    "\n",
    "station.data[station.name == station[1]]\n",
    "station.data.calgary <- data.table(weather.dl(station.ids = \"27211\", start = \"1920-01-01\", interval = \"day\"))"
   ]
  },
  {
   "cell_type": "code",
   "execution_count": null,
   "metadata": {},
   "outputs": [],
   "source": []
  }
 ],
 "metadata": {
  "kernelspec": {
   "display_name": "R",
   "language": "R",
   "name": "ir"
  },
  "language_info": {
   "codemirror_mode": "r",
   "file_extension": ".r",
   "mimetype": "text/x-r-source",
   "name": "R",
   "pygments_lexer": "r",
   "version": "4.1.1"
  },
  "orig_nbformat": 4
 },
 "nbformat": 4,
 "nbformat_minor": 2
}
